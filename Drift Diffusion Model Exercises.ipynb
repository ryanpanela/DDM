{
 "cells": [
  {
   "cell_type": "markdown",
   "metadata": {
    "pycharm": {
     "name": "#%% md\n"
    }
   },
   "source": [
    "## Drift Diffusion Model of Decision Making\n",
    "###### The Drift Diffusion Model is a function for computing a single decision by relying on sequential evidence accumulation.  It is regularly used as a tool in psychology and neuroscience research to demonstrate the binary choice process.  We will use the model to investigate intuitive hypotheses about decision-making."
   ]
  },
  {
   "cell_type": "code",
   "execution_count": null,
   "metadata": {
    "jupyter": {
     "outputs_hidden": false
    },
    "pycharm": {
     "name": "#%%\n"
    }
   },
   "outputs": [],
   "source": [
    "# Import Libraries\n",
    "import numpy as np\n",
    "import matplotlib as mpl\n",
    "import matplotlib.pyplot as plt\n",
    "import matplotlib.animation as ani\n",
    "from cycler import cycler\n",
    "\n",
    "\n",
    "# Set Default Plotting Conditions\n",
    "colors = ['#ff4d4a', '#2ffa7d', '#34bdf7', '#ffa947', '#ce73ff',\n",
    "          '#82d9a2', '#fc40ff', '#96e0e0', '#bf7b37', '#6d13ad']\n",
    "\n",
    "plt.style.use('seaborn')\n",
    "# mpl.rcParams['figure.figsize'] = (10.6, 8)\n",
    "mpl.rcParams['axes.titleweight'] = 'bold'\n",
    "mpl.rcParams['axes.titlesize'] = 16\n",
    "mpl.rcParams['axes.labelweight'] = 'bold'\n",
    "mpl.rcParams['axes.labelsize'] = 13\n",
    "mpl.rcParams['figure.dpi'] = 150\n",
    "mpl.rcParams['axes.prop_cycle'] = cycler('color', colors)"
   ]
  },
  {
   "cell_type": "markdown",
   "metadata": {
    "pycharm": {
     "name": "#%% md\n"
    }
   },
   "source": [
    "### DDM Function\n",
    "The `DDM Function` below implements a simplified random walk model.  A description of the parameters are as follows:\n",
    "1. `Threshold`: distance of the response boundaries\n",
    "2. `Starting`: starting point of the evidence accumulation\n",
    "3. `Driftrate`: rate of accumulation in favour of one response\n",
    "4. `Precision`: time step of accumulation to scale other parameters\n",
    "5. `Non-Decision Time`: sensory processing time"
   ]
  },
  {
   "cell_type": "code",
   "execution_count": null,
   "metadata": {
    "jupyter": {
     "outputs_hidden": false
    },
    "pycharm": {
     "name": "#%%\n"
    }
   },
   "outputs": [],
   "source": [
    "def ddm(threshold=.08, starting=0, driftrate=0, precision=.001, ndt=1):\n",
    "    \n",
    "    # Add starting position as first set of evidence\n",
    "    evidence = \n",
    "\n",
    "    while -threshold < evidence[-1] < threshold:\n",
    "        # Calculate Drift Value\n",
    "        drift = \n",
    "\n",
    "        # Calculate New Evidence\n",
    "        # Add the Drift Value to the Last Evidence Value\n",
    "        new_evidence = \n",
    "\n",
    "        # Append New Evidence\n",
    "        evidence = np.append(evidence, new_evidence)\n",
    "\n",
    "    # Determine Our Decision\n",
    "    if evidence[-1] > threshold:\n",
    "        decision =\n",
    "\n",
    "    else:\n",
    "        decision =\n",
    "\n",
    "    # Adjust Evidence for the Non-Decision Time\n",
    "    ndt_evidence = evidence[0] * np.ceil(ndt/precision)\n",
    "    evidence = np.insert(evidence, 0, ndt_evidence)\n",
    "\n",
    "    # Calculate the Response Time\n",
    "    responseTime = np.arange(len(evidence)) * precision\n",
    "\n",
    "    return responseTime, evidence, decision"
   ]
  },
  {
   "cell_type": "markdown",
   "metadata": {
    "pycharm": {
     "name": "#%% md\n"
    }
   },
   "source": [
    "### Simulation One\n",
    "First we will simulate a case where the model has no drift rate.  What does this mean?"
   ]
  },
  {
   "cell_type": "code",
   "execution_count": null,
   "metadata": {
    "jupyter": {
     "outputs_hidden": false
    },
    "pycharm": {
     "name": "#%%\n"
    }
   },
   "outputs": [],
   "source": [
    "# Simulate the Data\n",
    "boundary = .08\n",
    "start_bias = 0\n",
    "drift = 0\n",
    "\n",
    "RT, evidence, decision = ddm(threshold=boundary, starting=start_bias, driftrate=drift)\n",
    "\n",
    "# Plot the evidence accumulation\n",
    "plt.figure()\n",
    "plt.vlines(x = 0, ymin=-boundary, ymax=boundary, color='black')\n",
    "plt.hlines(y = 0, xmin=0, xmax=RT[-1], color='black')\n",
    "plt.hlines(y = boundary, xmin=0, xmax=RT[-1], color='#34bdf7')\n",
    "plt.hlines(y = -boundary, xmin=0, xmax=RT[-1], color='#34bdf7')\n",
    "plt.plot(RT, evidence)\n",
    "plt.text(RT[-1] / 8, boundary * .75, 'Decision: ' + decision, bbox={'facecolor': '#ff4d4a', 'alpha': 1, 'pad': 10})\n",
    "plt.xlabel('RT')\n",
    "plt.ylabel('Evidence')\n",
    "plt.show()"
   ]
  },
  {
   "cell_type": "markdown",
   "metadata": {
    "pycharm": {
     "name": "#%% md\n"
    }
   },
   "source": [
    "Let's now plot a few trial together to observe the differences in their behaviour."
   ]
  },
  {
   "cell_type": "code",
   "execution_count": null,
   "metadata": {
    "jupyter": {
     "outputs_hidden": false
    },
    "pycharm": {
     "name": "#%%\n"
    }
   },
   "outputs": [],
   "source": [
    "nTrials = 5\n",
    "boundary = .08\n",
    "start_bias = 0\n",
    "drift = 0\n",
    "\n",
    "plt.figure()\n",
    "\n",
    "for i in range(nTrials):\n",
    "    RT, evidence, decision = ddm(threshold=boundary, starting=start_bias, driftrate=drift, precision=.001, ndt=1)\n",
    "    plt.plot(RT, evidence, label=str(i+1))\n",
    "\n",
    "plt.xlabel('RT')\n",
    "plt.ylabel('Evidence')\n",
    "plt.legend()"
   ]
  },
  {
   "cell_type": "markdown",
   "metadata": {
    "pycharm": {
     "name": "#%% md\n"
    }
   },
   "source": [
    "### Simulation Two\n",
    "Plotting five trial is good for us to visualize, but we will need more data to compare.  Let's simulate the Drift Diffusion Model using 10,000 trials.  We will then plot a histogram according to response time and frequency of responses."
   ]
  },
  {
   "cell_type": "code",
   "execution_count": null,
   "metadata": {
    "jupyter": {
     "outputs_hidden": false
    },
    "pycharm": {
     "name": "#%%\n"
    }
   },
   "outputs": [],
   "source": [
    "def simulationPlot(nTrials, threshold, starting, driftrate):\n",
    "    decisions = np.array([])\n",
    "    RTs = np.array([])\n",
    "\n",
    "    for i in range(nTrials):\n",
    "        RT, evidence, decision = ddm(threshold=threshold, starting=starting, driftrate=driftrate)\n",
    "\n",
    "        RTs = np.append(RTs, RT[-1])\n",
    "        decisions = np.append(decisions, decision)\n",
    "\n",
    "    print('Simulation Complete')\n",
    "    print('Number of YES Responses: ', len(decisions[np.where(decisions == 'YES')]))\n",
    "    print('Number of NO Responses: ', len(decisions[np.where(decisions == 'NO')]))\n",
    "    print('Average Response Time of YES Response: ', np.mean(RTs[np.where(decisions == 'YES')]))\n",
    "    print('Average Response Time of NO Response: ', np.mean(RTs[np.where(decisions == 'NO')]))\n",
    "\n",
    "    return decisions, RTs"
   ]
  },
  {
   "cell_type": "code",
   "execution_count": null,
   "metadata": {
    "jupyter": {
     "outputs_hidden": false
    },
    "pycharm": {
     "name": "#%%\n"
    }
   },
   "outputs": [],
   "source": [
    "decisions, RTs = simulationPlot(1000, threshold=0.08, starting=0, driftrate=0)"
   ]
  },
  {
   "cell_type": "code",
   "execution_count": null,
   "metadata": {
    "jupyter": {
     "outputs_hidden": false
    },
    "pycharm": {
     "name": "#%%\n"
    }
   },
   "outputs": [],
   "source": [
    "# Plot the Histograms\n",
    "plt.figure()\n",
    "plt.subplot(2, 1, 1)\n",
    "plt.hist(RTs[np.where(decisions == 'YES')], bins=20)\n",
    "plt.title('Frequency of YES Responses')\n",
    "\n",
    "plt.subplot(2, 1, 2)\n",
    "plt.hist(RTs[np.where(decisions == 'NO')], bins=20)\n",
    "plt.title('Frequency of NO Responses')\n",
    "\n",
    "plt.xlabel('RTs')\n",
    "plt.ylabel('Frequency')\n",
    "plt.tight_layout(pad = 3)\n",
    "plt.show()"
   ]
  },
  {
   "cell_type": "markdown",
   "metadata": {
    "pycharm": {
     "name": "#%% md\n"
    }
   },
   "source": [
    "### Simulation Three\n",
    "Now, we will repeat this exercise to investigate the affect of varying drift rates.  Intuitively, we may assume that the drift rate (the tendency to accumulate evidence in one direction) has an effect on our response times.  Let's investigate this hypothesis."
   ]
  },
  {
   "cell_type": "code",
   "execution_count": null,
   "metadata": {
    "jupyter": {
     "outputs_hidden": false
    },
    "pycharm": {
     "name": "#%%\n"
    }
   },
   "outputs": [],
   "source": [
    "decisions, RTs = simulationPlot(1000, threshold=0.08, starting=0, driftrate=0.1)"
   ]
  },
  {
   "cell_type": "code",
   "execution_count": null,
   "metadata": {
    "jupyter": {
     "outputs_hidden": false
    },
    "pycharm": {
     "name": "#%%\n"
    }
   },
   "outputs": [],
   "source": [
    "plt.figure()\n",
    "plt.subplot(2, 1, 1)\n",
    "plt.hist(RTs[np.where(decisions == 'YES')], bins=20)\n",
    "plt.title('Frequency of YES Responses')\n",
    "plt.ylabel('Frequency')\n",
    "\n",
    "plt.subplot(2, 1, 2)\n",
    "plt.hist(RTs[np.where(decisions == 'NO')], bins=20)\n",
    "plt.title('Frequency of NO Responses')\n",
    "\n",
    "plt.xlabel('RTs')\n",
    "plt.ylabel('Frequency')\n",
    "plt.tight_layout(pad = 3)\n",
    "plt.show()"
   ]
  },
  {
   "cell_type": "markdown",
   "metadata": {
    "pycharm": {
     "name": "#%% md\n"
    }
   },
   "source": [
    "What can you conclude from these results?  What effect does drift rate have on the decision-making process?"
   ]
  },
  {
   "cell_type": "markdown",
   "metadata": {
    "pycharm": {
     "name": "#%% md\n"
    }
   },
   "source": [
    "### Simulation Four\n",
    "Now, let's investigate the effects of some of the other parameters in the model.  Another model has been set up below.  Try some of the different parameters?  What are they each responsible for?"
   ]
  },
  {
   "cell_type": "code",
   "execution_count": null,
   "metadata": {
    "jupyter": {
     "outputs_hidden": false
    },
    "pycharm": {
     "name": "#%%\n"
    }
   },
   "outputs": [],
   "source": [
    "# Initialize Parameters\n",
    "threshold = 0\n",
    "starting = 0\n",
    "driftrate = 0\n",
    "precision = 0\n",
    "ndt = 0"
   ]
  },
  {
   "cell_type": "code",
   "execution_count": null,
   "metadata": {
    "jupyter": {
     "outputs_hidden": false
    },
    "pycharm": {
     "name": "#%%\n"
    }
   },
   "outputs": [],
   "source": [
    "# One Trial\n",
    "RT, evidence, decision = ddm(threshold=threshold, starting=starting, driftrate=driftrate, precision=precision, ndt=ndt)\n",
    "\n",
    "# Plot the evidence accumulation\n",
    "plt.figure()\n",
    "plt.vlines(x = 0, ymin=-boundary, ymax=boundary, color='black')\n",
    "plt.hlines(y = 0, xmin=0, xmax=RT[-1], color='black')\n",
    "plt.hlines(y = boundary, xmin=0, xmax=RT[-1], color='#34bdf7')\n",
    "plt.hlines(y = -boundary, xmin=0, xmax=RT[-1], color='#34bdf7')\n",
    "plt.plot(RT, evidence)\n",
    "plt.text(RT[-1] / 8, boundary * .75, 'Decision: ' + decision, bbox={'facecolor': '#ff4d4a', 'alpha': 1, 'pad': 10})"
   ]
  },
  {
   "cell_type": "code",
   "execution_count": null,
   "metadata": {
    "jupyter": {
     "outputs_hidden": false
    },
    "pycharm": {
     "name": "#%%\n"
    }
   },
   "outputs": [],
   "source": [
    "# Multiple Trials\n",
    "plt.figure()\n",
    "\n",
    "for i in range(nTrials):\n",
    "    RT, evidence, decision = ddm(threshold=boundary, starting=starting, driftrate=driftrate, precision=precision, ndt=ndt)\n",
    "    plt.plot(RT, evidence, label=str(i+1))\n",
    "\n",
    "plt.xlabel('RT')\n",
    "plt.ylabel('Evidence')\n",
    "plt.legend()"
   ]
  },
  {
   "cell_type": "code",
   "execution_count": null,
   "metadata": {
    "jupyter": {
     "outputs_hidden": false
    },
    "pycharm": {
     "name": "#%%\n"
    }
   },
   "outputs": [],
   "source": [
    "# Histogram Analysis\n",
    "decisions, RTs = simulationPlot(1000, threshold=threshold, starting=starting, driftrate=driftrate, precision=precision, ndt=ndt)\n",
    "\n",
    "plt.figure()\n",
    "plt.subplot(2, 1, 1)\n",
    "plt.hist(RTs[np.where(decisions == 'YES')], bins=20)\n",
    "plt.title('Frequency of YES Responses')\n",
    "\n",
    "plt.subplot(2, 1, 2)\n",
    "plt.hist(RTs[np.where(decisions == 'NO')], bins=20)\n",
    "plt.title('Frequency of NO Responses')\n",
    "\n",
    "plt.xlabel('RTs')\n",
    "plt.ylabel('Frequency')\n",
    "plt.tight_layout(pad = 3)\n",
    "plt.show()"
   ]
  }
 ],
 "metadata": {
  "kernelspec": {
   "display_name": "Python 3 (ipykernel)",
   "language": "python",
   "name": "python3"
  },
  "language_info": {
   "codemirror_mode": {
    "name": "ipython",
    "version": 3
   },
   "file_extension": ".py",
   "mimetype": "text/x-python",
   "name": "python",
   "nbconvert_exporter": "python",
   "pygments_lexer": "ipython3",
   "version": "3.8.13"
  }
 },
 "nbformat": 4,
 "nbformat_minor": 4
}